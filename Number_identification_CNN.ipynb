{
 "cells": [
  {
   "cell_type": "code",
   "execution_count": 8,
   "id": "8b1afb36",
   "metadata": {},
   "outputs": [],
   "source": [
    "import tensorflow as tf\n",
    "from tensorflow import keras\n",
    "import numpy as np\n",
    "import matplotlib.pyplot as plt\n",
    "data= keras.datasets.mnist"
   ]
  },
  {
   "cell_type": "code",
   "execution_count": 9,
   "id": "75ec8ca5",
   "metadata": {},
   "outputs": [],
   "source": [
    "(X_train_full, y_train_full), (X_test, y_test)= data.load_data()"
   ]
  },
  {
   "cell_type": "code",
   "execution_count": 11,
   "id": "f9bd27fa",
   "metadata": {},
   "outputs": [
    {
     "data": {
      "text/plain": [
       "(60000, 28, 28)"
      ]
     },
     "execution_count": 11,
     "metadata": {},
     "output_type": "execute_result"
    }
   ],
   "source": [
    "X_train_full.shape"
   ]
  },
  {
   "cell_type": "code",
   "execution_count": 12,
   "id": "ce1035f9",
   "metadata": {},
   "outputs": [
    {
     "data": {
      "text/plain": [
       "(60000,)"
      ]
     },
     "execution_count": 12,
     "metadata": {},
     "output_type": "execute_result"
    }
   ],
   "source": [
    "y_train_full.shape"
   ]
  },
  {
   "cell_type": "code",
   "execution_count": 13,
   "id": "da3b9eaa",
   "metadata": {},
   "outputs": [
    {
     "data": {
      "text/plain": [
       "(10000, 28, 28)"
      ]
     },
     "execution_count": 13,
     "metadata": {},
     "output_type": "execute_result"
    }
   ],
   "source": [
    "X_test.shape"
   ]
  },
  {
   "cell_type": "code",
   "execution_count": 14,
   "id": "3b5fbc9c",
   "metadata": {},
   "outputs": [
    {
     "data": {
      "text/plain": [
       "(10000,)"
      ]
     },
     "execution_count": 14,
     "metadata": {},
     "output_type": "execute_result"
    }
   ],
   "source": [
    "y_test.shape"
   ]
  },
  {
   "cell_type": "code",
   "execution_count": 23,
   "id": "60940de1",
   "metadata": {},
   "outputs": [],
   "source": [
    "#Reshape"
   ]
  },
  {
   "cell_type": "code",
   "execution_count": 20,
   "id": "4e87a6c6",
   "metadata": {},
   "outputs": [],
   "source": [
    "X_train=X_train_full.reshape((60000,28,28,1))"
   ]
  },
  {
   "cell_type": "code",
   "execution_count": 21,
   "id": "9f517549",
   "metadata": {},
   "outputs": [],
   "source": [
    "X_test=X_test.reshape((10000,28,28,1))"
   ]
  },
  {
   "cell_type": "code",
   "execution_count": 22,
   "id": "cfc07e78",
   "metadata": {},
   "outputs": [],
   "source": [
    "#Normalize\n",
    "x_train=keras.utils.normalize(X_train, axis=1)\n",
    "x_test=keras.utils.normalize(X_test, axis=1)"
   ]
  },
  {
   "cell_type": "code",
   "execution_count": 24,
   "id": "affe343c",
   "metadata": {},
   "outputs": [],
   "source": [
    "#Create Validation sets\n",
    "x_valid, x_train= x_train[:6000], x_train[6000:]\n",
    "y_valid, y_train= y_train_full[:6000], y_train_full[6000:]"
   ]
  },
  {
   "cell_type": "code",
   "execution_count": 25,
   "id": "aa6811c8",
   "metadata": {},
   "outputs": [],
   "source": [
    "np.random.seed(42)\n",
    "tf.random.set_seed(42)"
   ]
  },
  {
   "cell_type": "code",
   "execution_count": 26,
   "id": "e8aa9b7a",
   "metadata": {},
   "outputs": [],
   "source": [
    "#Architecture\n",
    "model_A=keras.models.Sequential()\n",
    "model_A.add(keras.layers.Conv2D(filters = 32, kernel_size = (3, 3), strides=1, padding='valid', activation='relu', input_shape=(28,28,1)))\n",
    "model_A.add(keras.layers.MaxPooling2D(2,2))\n",
    "model_A.add(keras.layers.Flatten())\n",
    "model_A.add(keras.layers.Dense(200, activation='relu'))\n",
    "model_A.add(keras.layers.Dense(100, activation='relu'))             \n",
    "model_A.add(keras.layers.Dense(10, activation= 'softmax'))"
   ]
  },
  {
   "cell_type": "code",
   "execution_count": 27,
   "id": "1a04ccb9",
   "metadata": {},
   "outputs": [
    {
     "name": "stdout",
     "output_type": "stream",
     "text": [
      "Model: \"sequential\"\n",
      "_________________________________________________________________\n",
      " Layer (type)                Output Shape              Param #   \n",
      "=================================================================\n",
      " conv2d (Conv2D)             (None, 26, 26, 32)        320       \n",
      "                                                                 \n",
      " max_pooling2d (MaxPooling2D  (None, 13, 13, 32)       0         \n",
      " )                                                               \n",
      "                                                                 \n",
      " flatten (Flatten)           (None, 5408)              0         \n",
      "                                                                 \n",
      " dense (Dense)               (None, 200)               1081800   \n",
      "                                                                 \n",
      " dense_1 (Dense)             (None, 100)               20100     \n",
      "                                                                 \n",
      " dense_2 (Dense)             (None, 10)                1010      \n",
      "                                                                 \n",
      "=================================================================\n",
      "Total params: 1,103,230\n",
      "Trainable params: 1,103,230\n",
      "Non-trainable params: 0\n",
      "_________________________________________________________________\n"
     ]
    }
   ],
   "source": [
    "model_A.summary()"
   ]
  },
  {
   "cell_type": "code",
   "execution_count": 29,
   "id": "d63db4f0",
   "metadata": {},
   "outputs": [],
   "source": [
    "#Compiling\n",
    "model_A.compile(optimizer='sgd',\n",
    "              loss=\"sparse_categorical_crossentropy\",\n",
    "              metrics=['accuracy'])"
   ]
  },
  {
   "cell_type": "code",
   "execution_count": 31,
   "id": "0895a29e",
   "metadata": {},
   "outputs": [
    {
     "name": "stdout",
     "output_type": "stream",
     "text": [
      "Epoch 1/60\n",
      "1688/1688 [==============================] - 42s 24ms/step - loss: 0.8169 - accuracy: 0.7916 - val_loss: 0.3140 - val_accuracy: 0.9053\n",
      "Epoch 2/60\n",
      "1688/1688 [==============================] - 42s 25ms/step - loss: 0.2877 - accuracy: 0.9146 - val_loss: 0.2350 - val_accuracy: 0.9328\n",
      "Epoch 3/60\n",
      "1688/1688 [==============================] - 40s 24ms/step - loss: 0.2210 - accuracy: 0.9338 - val_loss: 0.1812 - val_accuracy: 0.9498\n",
      "Epoch 4/60\n",
      "1688/1688 [==============================] - 40s 24ms/step - loss: 0.1804 - accuracy: 0.9450 - val_loss: 0.1610 - val_accuracy: 0.9525\n",
      "Epoch 5/60\n",
      "1688/1688 [==============================] - 40s 24ms/step - loss: 0.1537 - accuracy: 0.9530 - val_loss: 0.1385 - val_accuracy: 0.9620\n",
      "Epoch 6/60\n",
      "1688/1688 [==============================] - 39s 23ms/step - loss: 0.1345 - accuracy: 0.9591 - val_loss: 0.1270 - val_accuracy: 0.9652\n",
      "Epoch 7/60\n",
      "1688/1688 [==============================] - 40s 24ms/step - loss: 0.1196 - accuracy: 0.9640 - val_loss: 0.1145 - val_accuracy: 0.9693\n",
      "Epoch 8/60\n",
      "1688/1688 [==============================] - 40s 23ms/step - loss: 0.1080 - accuracy: 0.9672 - val_loss: 0.1097 - val_accuracy: 0.9672\n",
      "Epoch 9/60\n",
      "1688/1688 [==============================] - 44s 26ms/step - loss: 0.0987 - accuracy: 0.9700 - val_loss: 0.0989 - val_accuracy: 0.9718\n",
      "Epoch 10/60\n",
      "1688/1688 [==============================] - 40s 24ms/step - loss: 0.0906 - accuracy: 0.9724 - val_loss: 0.0907 - val_accuracy: 0.9738\n",
      "Epoch 11/60\n",
      "1688/1688 [==============================] - 40s 23ms/step - loss: 0.0830 - accuracy: 0.9749 - val_loss: 0.0870 - val_accuracy: 0.9750\n",
      "Epoch 12/60\n",
      "1688/1688 [==============================] - 39s 23ms/step - loss: 0.0771 - accuracy: 0.9768 - val_loss: 0.0899 - val_accuracy: 0.9733\n",
      "Epoch 13/60\n",
      "1688/1688 [==============================] - 39s 23ms/step - loss: 0.0708 - accuracy: 0.9786 - val_loss: 0.0868 - val_accuracy: 0.9733\n",
      "Epoch 14/60\n",
      "1688/1688 [==============================] - 39s 23ms/step - loss: 0.0666 - accuracy: 0.9797 - val_loss: 0.0783 - val_accuracy: 0.9770\n",
      "Epoch 15/60\n",
      "1688/1688 [==============================] - 39s 23ms/step - loss: 0.0624 - accuracy: 0.9808 - val_loss: 0.0827 - val_accuracy: 0.9763\n",
      "Epoch 16/60\n",
      "1688/1688 [==============================] - 41s 24ms/step - loss: 0.0584 - accuracy: 0.9824 - val_loss: 0.0740 - val_accuracy: 0.9777\n",
      "Epoch 17/60\n",
      "1688/1688 [==============================] - 41s 24ms/step - loss: 0.0545 - accuracy: 0.9831 - val_loss: 0.0782 - val_accuracy: 0.9765\n",
      "Epoch 18/60\n",
      "1688/1688 [==============================] - 42s 25ms/step - loss: 0.0507 - accuracy: 0.9843 - val_loss: 0.0738 - val_accuracy: 0.9782\n",
      "Epoch 19/60\n",
      "1688/1688 [==============================] - 47s 28ms/step - loss: 0.0476 - accuracy: 0.9856 - val_loss: 0.0794 - val_accuracy: 0.9757\n",
      "Epoch 20/60\n",
      "1688/1688 [==============================] - 42s 25ms/step - loss: 0.0444 - accuracy: 0.9869 - val_loss: 0.0740 - val_accuracy: 0.9777\n",
      "Epoch 21/60\n",
      "1688/1688 [==============================] - 42s 25ms/step - loss: 0.0423 - accuracy: 0.9871 - val_loss: 0.0713 - val_accuracy: 0.9782\n",
      "Epoch 22/60\n",
      "1688/1688 [==============================] - 42s 25ms/step - loss: 0.0393 - accuracy: 0.9880 - val_loss: 0.0726 - val_accuracy: 0.9783\n",
      "Epoch 23/60\n",
      "1688/1688 [==============================] - 41s 24ms/step - loss: 0.0371 - accuracy: 0.9890 - val_loss: 0.0772 - val_accuracy: 0.9782\n",
      "Epoch 24/60\n",
      "1688/1688 [==============================] - 40s 24ms/step - loss: 0.0348 - accuracy: 0.9898 - val_loss: 0.0713 - val_accuracy: 0.9787\n",
      "Epoch 25/60\n",
      "1688/1688 [==============================] - 40s 24ms/step - loss: 0.0325 - accuracy: 0.9906 - val_loss: 0.0692 - val_accuracy: 0.9795\n",
      "Epoch 26/60\n",
      "1688/1688 [==============================] - 40s 24ms/step - loss: 0.0306 - accuracy: 0.9911 - val_loss: 0.0792 - val_accuracy: 0.9757\n",
      "Epoch 27/60\n",
      "1688/1688 [==============================] - 41s 25ms/step - loss: 0.0287 - accuracy: 0.9917 - val_loss: 0.0773 - val_accuracy: 0.9768\n",
      "Epoch 28/60\n",
      "1688/1688 [==============================] - 45s 26ms/step - loss: 0.0277 - accuracy: 0.9917 - val_loss: 0.0750 - val_accuracy: 0.9775\n",
      "Epoch 29/60\n",
      "1688/1688 [==============================] - 45s 27ms/step - loss: 0.0254 - accuracy: 0.9928 - val_loss: 0.0842 - val_accuracy: 0.9757\n",
      "Epoch 30/60\n",
      "1688/1688 [==============================] - 59s 35ms/step - loss: 0.0242 - accuracy: 0.9931 - val_loss: 0.0662 - val_accuracy: 0.9800\n",
      "Epoch 31/60\n",
      "1688/1688 [==============================] - 41s 24ms/step - loss: 0.0223 - accuracy: 0.9937 - val_loss: 0.0732 - val_accuracy: 0.9785\n",
      "Epoch 32/60\n",
      "1688/1688 [==============================] - 40s 24ms/step - loss: 0.0214 - accuracy: 0.9938 - val_loss: 0.0695 - val_accuracy: 0.9798\n",
      "Epoch 33/60\n",
      "1688/1688 [==============================] - 43s 25ms/step - loss: 0.0198 - accuracy: 0.9944 - val_loss: 0.0846 - val_accuracy: 0.9752\n",
      "Epoch 34/60\n",
      "1688/1688 [==============================] - 42s 25ms/step - loss: 0.0187 - accuracy: 0.9951 - val_loss: 0.0732 - val_accuracy: 0.9802\n",
      "Epoch 35/60\n",
      "1688/1688 [==============================] - 40s 24ms/step - loss: 0.0173 - accuracy: 0.9954 - val_loss: 0.0708 - val_accuracy: 0.9795\n",
      "Epoch 36/60\n",
      "1688/1688 [==============================] - 41s 24ms/step - loss: 0.0162 - accuracy: 0.9957 - val_loss: 0.0758 - val_accuracy: 0.9780\n",
      "Epoch 37/60\n",
      "1688/1688 [==============================] - 41s 24ms/step - loss: 0.0155 - accuracy: 0.9959 - val_loss: 0.0732 - val_accuracy: 0.9782\n",
      "Epoch 38/60\n",
      "1688/1688 [==============================] - 40s 24ms/step - loss: 0.0142 - accuracy: 0.9966 - val_loss: 0.0780 - val_accuracy: 0.9783\n",
      "Epoch 39/60\n",
      "1688/1688 [==============================] - 41s 25ms/step - loss: 0.0133 - accuracy: 0.9967 - val_loss: 0.0729 - val_accuracy: 0.9792\n",
      "Epoch 40/60\n",
      "1688/1688 [==============================] - 41s 24ms/step - loss: 0.0124 - accuracy: 0.9969 - val_loss: 0.0747 - val_accuracy: 0.9780\n",
      "Epoch 41/60\n",
      "1688/1688 [==============================] - 41s 24ms/step - loss: 0.0118 - accuracy: 0.9972 - val_loss: 0.0731 - val_accuracy: 0.9790\n",
      "Epoch 42/60\n",
      "1688/1688 [==============================] - 40s 24ms/step - loss: 0.0109 - accuracy: 0.9975 - val_loss: 0.0761 - val_accuracy: 0.9802\n",
      "Epoch 43/60\n",
      "1688/1688 [==============================] - 40s 23ms/step - loss: 0.0102 - accuracy: 0.9976 - val_loss: 0.0773 - val_accuracy: 0.9810\n",
      "Epoch 44/60\n",
      "1688/1688 [==============================] - 40s 23ms/step - loss: 0.0093 - accuracy: 0.9982 - val_loss: 0.0746 - val_accuracy: 0.9790\n",
      "Epoch 45/60\n",
      "1688/1688 [==============================] - 39s 23ms/step - loss: 0.0088 - accuracy: 0.9984 - val_loss: 0.0732 - val_accuracy: 0.9805\n",
      "Epoch 46/60\n",
      "1688/1688 [==============================] - 42s 25ms/step - loss: 0.0083 - accuracy: 0.9982 - val_loss: 0.0739 - val_accuracy: 0.9802\n",
      "Epoch 47/60\n",
      "1688/1688 [==============================] - 41s 24ms/step - loss: 0.0077 - accuracy: 0.9986 - val_loss: 0.0756 - val_accuracy: 0.9807\n",
      "Epoch 48/60\n",
      "1688/1688 [==============================] - 39s 23ms/step - loss: 0.0072 - accuracy: 0.9987 - val_loss: 0.0773 - val_accuracy: 0.9783\n",
      "Epoch 49/60\n",
      "1688/1688 [==============================] - 41s 24ms/step - loss: 0.0064 - accuracy: 0.9990 - val_loss: 0.0771 - val_accuracy: 0.9793\n",
      "Epoch 50/60\n",
      "1688/1688 [==============================] - 41s 24ms/step - loss: 0.0061 - accuracy: 0.9990 - val_loss: 0.0791 - val_accuracy: 0.9783\n",
      "Epoch 51/60\n",
      "1688/1688 [==============================] - 42s 25ms/step - loss: 0.0057 - accuracy: 0.9991 - val_loss: 0.0842 - val_accuracy: 0.9787\n",
      "Epoch 52/60\n",
      "1688/1688 [==============================] - 41s 24ms/step - loss: 0.0050 - accuracy: 0.9995 - val_loss: 0.0781 - val_accuracy: 0.9798\n",
      "Epoch 53/60\n",
      "1688/1688 [==============================] - 41s 24ms/step - loss: 0.0049 - accuracy: 0.9994 - val_loss: 0.0805 - val_accuracy: 0.9802\n",
      "Epoch 54/60\n",
      "1688/1688 [==============================] - 40s 24ms/step - loss: 0.0047 - accuracy: 0.9993 - val_loss: 0.0788 - val_accuracy: 0.9802\n",
      "Epoch 55/60\n",
      "1688/1688 [==============================] - 40s 24ms/step - loss: 0.0043 - accuracy: 0.9996 - val_loss: 0.0815 - val_accuracy: 0.9792\n",
      "Epoch 56/60\n",
      "1688/1688 [==============================] - 41s 24ms/step - loss: 0.0039 - accuracy: 0.9996 - val_loss: 0.0805 - val_accuracy: 0.9788\n"
     ]
    },
    {
     "name": "stdout",
     "output_type": "stream",
     "text": [
      "Epoch 57/60\n",
      "1688/1688 [==============================] - 39s 23ms/step - loss: 0.0037 - accuracy: 0.9996 - val_loss: 0.0805 - val_accuracy: 0.9808\n",
      "Epoch 58/60\n",
      "1688/1688 [==============================] - 39s 23ms/step - loss: 0.0035 - accuracy: 0.9997 - val_loss: 0.0820 - val_accuracy: 0.9787\n",
      "Epoch 59/60\n",
      "1688/1688 [==============================] - 39s 23ms/step - loss: 0.0032 - accuracy: 0.9997 - val_loss: 0.0820 - val_accuracy: 0.9797\n",
      "Epoch 60/60\n",
      "1688/1688 [==============================] - 39s 23ms/step - loss: 0.0032 - accuracy: 0.9996 - val_loss: 0.0811 - val_accuracy: 0.9795\n"
     ]
    }
   ],
   "source": [
    "#Training\n",
    "model_A_history=model_A.fit(x_train, y_train, epochs=60, validation_data=(x_valid, y_valid))"
   ]
  },
  {
   "cell_type": "code",
   "execution_count": 32,
   "id": "9cf9dabd",
   "metadata": {},
   "outputs": [
    {
     "data": {
      "text/plain": [
       "{'verbose': 1, 'epochs': 60, 'steps': 1688}"
      ]
     },
     "execution_count": 32,
     "metadata": {},
     "output_type": "execute_result"
    }
   ],
   "source": [
    "model_A_history.params"
   ]
  },
  {
   "cell_type": "code",
   "execution_count": 33,
   "id": "3d0c9ef7",
   "metadata": {},
   "outputs": [
    {
     "data": {
      "text/plain": [
       "{'loss': [0.8168704509735107,\n",
       "  0.2876855731010437,\n",
       "  0.22099898755550385,\n",
       "  0.18036018311977386,\n",
       "  0.15365099906921387,\n",
       "  0.13451191782951355,\n",
       "  0.1196228489279747,\n",
       "  0.10797326266765594,\n",
       "  0.0986638069152832,\n",
       "  0.09055918455123901,\n",
       "  0.08302881568670273,\n",
       "  0.07712908834218979,\n",
       "  0.07083230465650558,\n",
       "  0.06659451127052307,\n",
       "  0.062386974692344666,\n",
       "  0.05838226526975632,\n",
       "  0.05447116494178772,\n",
       "  0.050686631351709366,\n",
       "  0.04755057021975517,\n",
       "  0.044412728399038315,\n",
       "  0.042267922312021255,\n",
       "  0.03931136056780815,\n",
       "  0.037078917026519775,\n",
       "  0.03476783633232117,\n",
       "  0.03246205300092697,\n",
       "  0.03062358871102333,\n",
       "  0.028689827769994736,\n",
       "  0.027665918692946434,\n",
       "  0.02536461316049099,\n",
       "  0.024202534928917885,\n",
       "  0.022316383197903633,\n",
       "  0.021395478397607803,\n",
       "  0.019801655784249306,\n",
       "  0.018675101920962334,\n",
       "  0.01725688949227333,\n",
       "  0.01617700234055519,\n",
       "  0.015527129173278809,\n",
       "  0.014157960191369057,\n",
       "  0.013286176137626171,\n",
       "  0.012356110848486423,\n",
       "  0.011755252256989479,\n",
       "  0.010913953185081482,\n",
       "  0.010206157341599464,\n",
       "  0.009307600557804108,\n",
       "  0.00882962066680193,\n",
       "  0.008338624611496925,\n",
       "  0.007704055868089199,\n",
       "  0.007172337733209133,\n",
       "  0.006391085218638182,\n",
       "  0.0061181471683084965,\n",
       "  0.005702274851500988,\n",
       "  0.005027773790061474,\n",
       "  0.004866596311330795,\n",
       "  0.00471841637045145,\n",
       "  0.0043060434982180595,\n",
       "  0.003920236602425575,\n",
       "  0.0036724379751831293,\n",
       "  0.0034632764291018248,\n",
       "  0.0032086893916130066,\n",
       "  0.003159410087391734],\n",
       " 'accuracy': [0.7915740609169006,\n",
       "  0.9145740866661072,\n",
       "  0.9338148236274719,\n",
       "  0.9450185298919678,\n",
       "  0.9530370235443115,\n",
       "  0.9590926170349121,\n",
       "  0.9640185236930847,\n",
       "  0.9671851992607117,\n",
       "  0.970037043094635,\n",
       "  0.9723888635635376,\n",
       "  0.9748888611793518,\n",
       "  0.9767962694168091,\n",
       "  0.9785740971565247,\n",
       "  0.9797222018241882,\n",
       "  0.9807778000831604,\n",
       "  0.9823703765869141,\n",
       "  0.983129620552063,\n",
       "  0.9842963218688965,\n",
       "  0.9855926036834717,\n",
       "  0.9868518710136414,\n",
       "  0.9870555400848389,\n",
       "  0.9880185127258301,\n",
       "  0.989037036895752,\n",
       "  0.9897962808609009,\n",
       "  0.9905925989151001,\n",
       "  0.9910740852355957,\n",
       "  0.9916666746139526,\n",
       "  0.9917222261428833,\n",
       "  0.9928333163261414,\n",
       "  0.9931296110153198,\n",
       "  0.9936666488647461,\n",
       "  0.9938333630561829,\n",
       "  0.994351863861084,\n",
       "  0.9950925707817078,\n",
       "  0.9954444169998169,\n",
       "  0.9956851601600647,\n",
       "  0.9959444403648376,\n",
       "  0.9965741038322449,\n",
       "  0.9967036843299866,\n",
       "  0.9969074130058289,\n",
       "  0.9972222447395325,\n",
       "  0.9974629878997803,\n",
       "  0.9976111054420471,\n",
       "  0.9982407689094543,\n",
       "  0.9983888864517212,\n",
       "  0.998203694820404,\n",
       "  0.998629629611969,\n",
       "  0.9986851811408997,\n",
       "  0.9990370273590088,\n",
       "  0.9990370273590088,\n",
       "  0.9990555644035339,\n",
       "  0.9995370507240295,\n",
       "  0.9993888735771179,\n",
       "  0.9993148446083069,\n",
       "  0.9995926022529602,\n",
       "  0.9996296167373657,\n",
       "  0.9996481537818909,\n",
       "  0.999666690826416,\n",
       "  0.999740719795227,\n",
       "  0.9996296167373657],\n",
       " 'val_loss': [0.31397002935409546,\n",
       "  0.23498232662677765,\n",
       "  0.18120832741260529,\n",
       "  0.16100084781646729,\n",
       "  0.13854600489139557,\n",
       "  0.12700940668582916,\n",
       "  0.1145029291510582,\n",
       "  0.10966825485229492,\n",
       "  0.09885197132825851,\n",
       "  0.09067223221063614,\n",
       "  0.08700075000524521,\n",
       "  0.08992184698581696,\n",
       "  0.08677792549133301,\n",
       "  0.0783262550830841,\n",
       "  0.08265973627567291,\n",
       "  0.07399402558803558,\n",
       "  0.07819972932338715,\n",
       "  0.07377015054225922,\n",
       "  0.07940267026424408,\n",
       "  0.07396990805864334,\n",
       "  0.07126400619745255,\n",
       "  0.0725879892706871,\n",
       "  0.07722533494234085,\n",
       "  0.07130870223045349,\n",
       "  0.0692121833562851,\n",
       "  0.07922615855932236,\n",
       "  0.07729249447584152,\n",
       "  0.07500161230564117,\n",
       "  0.08417099714279175,\n",
       "  0.0662207156419754,\n",
       "  0.07319792360067368,\n",
       "  0.0695066750049591,\n",
       "  0.08460212498903275,\n",
       "  0.07322531193494797,\n",
       "  0.0707627683877945,\n",
       "  0.07575831562280655,\n",
       "  0.07319257408380508,\n",
       "  0.07798979431390762,\n",
       "  0.07287281006574631,\n",
       "  0.07469725608825684,\n",
       "  0.07313448935747147,\n",
       "  0.07608368992805481,\n",
       "  0.07730108499526978,\n",
       "  0.07460590451955795,\n",
       "  0.07317928969860077,\n",
       "  0.07389356195926666,\n",
       "  0.07564336806535721,\n",
       "  0.07730775326490402,\n",
       "  0.07707428932189941,\n",
       "  0.0790664330124855,\n",
       "  0.08422182500362396,\n",
       "  0.07811513543128967,\n",
       "  0.08049826323986053,\n",
       "  0.07883939146995544,\n",
       "  0.08153335750102997,\n",
       "  0.08053239434957504,\n",
       "  0.08051475137472153,\n",
       "  0.08204576373100281,\n",
       "  0.08197158575057983,\n",
       "  0.08111830055713654],\n",
       " 'val_accuracy': [0.9053333401679993,\n",
       "  0.9328333139419556,\n",
       "  0.949833333492279,\n",
       "  0.9524999856948853,\n",
       "  0.9620000123977661,\n",
       "  0.9651666879653931,\n",
       "  0.9693333506584167,\n",
       "  0.9671666622161865,\n",
       "  0.971833348274231,\n",
       "  0.9738333225250244,\n",
       "  0.9750000238418579,\n",
       "  0.9733333587646484,\n",
       "  0.9733333587646484,\n",
       "  0.9769999980926514,\n",
       "  0.9763333201408386,\n",
       "  0.9776666760444641,\n",
       "  0.9764999747276306,\n",
       "  0.9781666398048401,\n",
       "  0.9756666421890259,\n",
       "  0.9776666760444641,\n",
       "  0.9781666398048401,\n",
       "  0.9783333539962769,\n",
       "  0.9781666398048401,\n",
       "  0.9786666631698608,\n",
       "  0.9794999957084656,\n",
       "  0.9756666421890259,\n",
       "  0.9768333435058594,\n",
       "  0.9775000214576721,\n",
       "  0.9756666421890259,\n",
       "  0.9800000190734863,\n",
       "  0.9785000085830688,\n",
       "  0.9798333048820496,\n",
       "  0.9751666784286499,\n",
       "  0.9801666736602783,\n",
       "  0.9794999957084656,\n",
       "  0.9779999852180481,\n",
       "  0.9781666398048401,\n",
       "  0.9783333539962769,\n",
       "  0.9791666865348816,\n",
       "  0.9779999852180481,\n",
       "  0.9789999723434448,\n",
       "  0.9801666736602783,\n",
       "  0.9810000061988831,\n",
       "  0.9789999723434448,\n",
       "  0.9804999828338623,\n",
       "  0.9801666736602783,\n",
       "  0.9806666374206543,\n",
       "  0.9783333539962769,\n",
       "  0.9793333411216736,\n",
       "  0.9783333539962769,\n",
       "  0.9786666631698608,\n",
       "  0.9798333048820496,\n",
       "  0.9801666736602783,\n",
       "  0.9801666736602783,\n",
       "  0.9791666865348816,\n",
       "  0.9788333177566528,\n",
       "  0.9808333516120911,\n",
       "  0.9786666631698608,\n",
       "  0.9796666502952576,\n",
       "  0.9794999957084656]}"
      ]
     },
     "execution_count": 33,
     "metadata": {},
     "output_type": "execute_result"
    }
   ],
   "source": [
    "model_A_history.history"
   ]
  },
  {
   "cell_type": "code",
   "execution_count": 34,
   "id": "97612464",
   "metadata": {},
   "outputs": [
    {
     "data": {
      "image/png": "[encoded data removed]",
      "text/plain": [
       "<Figure size 576x360 with 1 Axes>"
      ]
     },
     "metadata": {
      "needs_background": "light"
     },
     "output_type": "display_data"
    }
   ],
   "source": [
    "import pandas as pd\n",
    "pd.DataFrame(model_A_history.history).plot(figsize=(8,5))\n",
    "plt.grid(True)\n",
    "plt.gca().set_ylim(0,1)\n",
    "plt.show()"
   ]
  },
  {
   "cell_type": "code",
   "execution_count": 36,
   "id": "abb34d07",
   "metadata": {},
   "outputs": [
    {
     "name": "stdout",
     "output_type": "stream",
     "text": [
      "313/313 [==============================] - 2s 8ms/step - loss: 0.0741 - accuracy: 0.9824\n"
     ]
    }
   ],
   "source": [
    "test_loss, test_acc= model_A.evaluate(x_test,y_test)"
   ]
  },
  {
   "cell_type": "code",
   "execution_count": 37,
   "id": "272a157d",
   "metadata": {},
   "outputs": [
    {
     "name": "stdout",
     "output_type": "stream",
     "text": [
      "Tested Accuracy A: 0.9824000000953674\n"
     ]
    }
   ],
   "source": [
    "print(\"Tested Accuracy A:\",test_acc)"
   ]
  },
  {
   "cell_type": "markdown",
   "id": "4c67e754",
   "metadata": {},
   "source": [
    "Model B"
   ]
  },
  {
   "cell_type": "code",
   "execution_count": 38,
   "id": "33bda71b",
   "metadata": {},
   "outputs": [],
   "source": [
    "model_B=keras.models.Sequential()\n",
    "model_B.add(keras.layers.Conv2D(filters = 64, kernel_size = (3, 3), strides=1, padding='valid', activation='relu', input_shape=(28,28,1)))\n",
    "model_B.add(keras.layers.MaxPooling2D(2,2))\n",
    "model_B.add(keras.layers.Flatten())\n",
    "model_B.add(keras.layers.Dense(200, activation='relu'))\n",
    "model_B.add(keras.layers.Dense(100, activation='relu'))             \n",
    "model_B.add(keras.layers.Dense(10, activation= 'softmax'))"
   ]
  },
  {
   "cell_type": "code",
   "execution_count": 39,
   "id": "b589226e",
   "metadata": {},
   "outputs": [
    {
     "name": "stdout",
     "output_type": "stream",
     "text": [
      "Model: \"sequential_1\"\n",
      "_________________________________________________________________\n",
      " Layer (type)                Output Shape              Param #   \n",
      "=================================================================\n",
      " conv2d_1 (Conv2D)           (None, 26, 26, 64)        640       \n",
      "                                                                 \n",
      " max_pooling2d_1 (MaxPooling  (None, 13, 13, 64)       0         \n",
      " 2D)                                                             \n",
      "                                                                 \n",
      " flatten_1 (Flatten)         (None, 10816)             0         \n",
      "                                                                 \n",
      " dense_3 (Dense)             (None, 200)               2163400   \n",
      "                                                                 \n",
      " dense_4 (Dense)             (None, 100)               20100     \n",
      "                                                                 \n",
      " dense_5 (Dense)             (None, 10)                1010      \n",
      "                                                                 \n",
      "=================================================================\n",
      "Total params: 2,185,150\n",
      "Trainable params: 2,185,150\n",
      "Non-trainable params: 0\n",
      "_________________________________________________________________\n"
     ]
    }
   ],
   "source": [
    "model_B.summary()"
   ]
  },
  {
   "cell_type": "code",
   "execution_count": 40,
   "id": "7de5080d",
   "metadata": {},
   "outputs": [],
   "source": [
    "#Compiling\n",
    "model_B.compile(optimizer='sgd',\n",
    "              loss=\"sparse_categorical_crossentropy\",\n",
    "              metrics=['accuracy'])"
   ]
  },
  {
   "cell_type": "code",
   "execution_count": 41,
   "id": "58a7894f",
   "metadata": {},
   "outputs": [
    {
     "name": "stdout",
     "output_type": "stream",
     "text": [
      "Epoch 1/60\n",
      "1688/1688 [==============================] - 65s 38ms/step - loss: 0.7609 - accuracy: 0.8132 - val_loss: 0.3047 - val_accuracy: 0.9067\n",
      "Epoch 2/60\n",
      "1688/1688 [==============================] - 63s 38ms/step - loss: 0.2843 - accuracy: 0.9160 - val_loss: 0.2333 - val_accuracy: 0.9347\n",
      "Epoch 3/60\n",
      "1688/1688 [==============================] - 63s 37ms/step - loss: 0.2209 - accuracy: 0.9333 - val_loss: 0.1815 - val_accuracy: 0.9487\n",
      "Epoch 4/60\n",
      "1688/1688 [==============================] - 64s 38ms/step - loss: 0.1806 - accuracy: 0.9455 - val_loss: 0.1605 - val_accuracy: 0.9555\n",
      "Epoch 5/60\n",
      "1688/1688 [==============================] - 63s 37ms/step - loss: 0.1527 - accuracy: 0.9538 - val_loss: 0.1437 - val_accuracy: 0.9618\n",
      "Epoch 6/60\n",
      "1688/1688 [==============================] - 80s 47ms/step - loss: 0.1325 - accuracy: 0.9594 - val_loss: 0.1275 - val_accuracy: 0.9653\n",
      "Epoch 7/60\n",
      "1688/1688 [==============================] - 73s 43ms/step - loss: 0.1171 - accuracy: 0.9653 - val_loss: 0.1150 - val_accuracy: 0.9683\n",
      "Epoch 8/60\n",
      "1688/1688 [==============================] - 72s 43ms/step - loss: 0.1046 - accuracy: 0.9683 - val_loss: 0.1045 - val_accuracy: 0.9693\n",
      "Epoch 9/60\n",
      "1688/1688 [==============================] - 65s 39ms/step - loss: 0.0953 - accuracy: 0.9709 - val_loss: 0.0983 - val_accuracy: 0.9717\n",
      "Epoch 10/60\n",
      "1688/1688 [==============================] - 68s 40ms/step - loss: 0.0868 - accuracy: 0.9736 - val_loss: 0.0889 - val_accuracy: 0.9735\n",
      "Epoch 11/60\n",
      "1688/1688 [==============================] - 64s 38ms/step - loss: 0.0798 - accuracy: 0.9760 - val_loss: 0.0838 - val_accuracy: 0.9757\n",
      "Epoch 12/60\n",
      "1688/1688 [==============================] - 65s 39ms/step - loss: 0.0739 - accuracy: 0.9777 - val_loss: 0.0832 - val_accuracy: 0.9760\n",
      "Epoch 13/60\n",
      "1688/1688 [==============================] - 81s 48ms/step - loss: 0.0677 - accuracy: 0.9791 - val_loss: 0.0860 - val_accuracy: 0.9745\n",
      "Epoch 14/60\n",
      "1688/1688 [==============================] - 73s 43ms/step - loss: 0.0633 - accuracy: 0.9806 - val_loss: 0.0740 - val_accuracy: 0.9775\n",
      "Epoch 15/60\n",
      "1688/1688 [==============================] - 71s 42ms/step - loss: 0.0592 - accuracy: 0.9819 - val_loss: 0.0778 - val_accuracy: 0.9775\n",
      "Epoch 16/60\n",
      "1688/1688 [==============================] - 70s 42ms/step - loss: 0.0557 - accuracy: 0.9826 - val_loss: 0.0718 - val_accuracy: 0.9782\n",
      "Epoch 17/60\n",
      "1688/1688 [==============================] - 70s 41ms/step - loss: 0.0519 - accuracy: 0.9838 - val_loss: 0.0752 - val_accuracy: 0.9780\n",
      "Epoch 18/60\n",
      "1688/1688 [==============================] - 69s 41ms/step - loss: 0.0485 - accuracy: 0.9849 - val_loss: 0.0701 - val_accuracy: 0.9788\n",
      "Epoch 19/60\n",
      "1688/1688 [==============================] - 70s 41ms/step - loss: 0.0455 - accuracy: 0.9861 - val_loss: 0.0748 - val_accuracy: 0.9763\n",
      "Epoch 20/60\n",
      "1688/1688 [==============================] - 72s 43ms/step - loss: 0.0424 - accuracy: 0.9871 - val_loss: 0.0717 - val_accuracy: 0.9788\n",
      "Epoch 21/60\n",
      "1688/1688 [==============================] - 70s 41ms/step - loss: 0.0401 - accuracy: 0.9879 - val_loss: 0.0662 - val_accuracy: 0.9802\n",
      "Epoch 22/60\n",
      "1688/1688 [==============================] - 64s 38ms/step - loss: 0.0370 - accuracy: 0.9886 - val_loss: 0.0720 - val_accuracy: 0.9777\n",
      "Epoch 23/60\n",
      "1688/1688 [==============================] - 64s 38ms/step - loss: 0.0356 - accuracy: 0.9893 - val_loss: 0.0732 - val_accuracy: 0.9780\n",
      "Epoch 24/60\n",
      "1688/1688 [==============================] - 64s 38ms/step - loss: 0.0334 - accuracy: 0.9900 - val_loss: 0.0707 - val_accuracy: 0.9787\n",
      "Epoch 25/60\n",
      "1688/1688 [==============================] - 65s 38ms/step - loss: 0.0309 - accuracy: 0.9906 - val_loss: 0.0640 - val_accuracy: 0.9805\n",
      "Epoch 26/60\n",
      "1688/1688 [==============================] - 80s 48ms/step - loss: 0.0290 - accuracy: 0.9917 - val_loss: 0.0703 - val_accuracy: 0.9785\n",
      "Epoch 27/60\n",
      "1688/1688 [==============================] - 71s 42ms/step - loss: 0.0270 - accuracy: 0.9920 - val_loss: 0.0674 - val_accuracy: 0.9795\n",
      "Epoch 28/60\n",
      "1688/1688 [==============================] - 65s 39ms/step - loss: 0.0256 - accuracy: 0.9924 - val_loss: 0.0671 - val_accuracy: 0.9793\n",
      "Epoch 29/60\n",
      "1688/1688 [==============================] - 78s 46ms/step - loss: 0.0243 - accuracy: 0.9926 - val_loss: 0.0729 - val_accuracy: 0.9787\n",
      "Epoch 30/60\n",
      "1688/1688 [==============================] - 71s 42ms/step - loss: 0.0225 - accuracy: 0.9934 - val_loss: 0.0640 - val_accuracy: 0.9817\n",
      "Epoch 31/60\n",
      "1688/1688 [==============================] - 64s 38ms/step - loss: 0.0207 - accuracy: 0.9944 - val_loss: 0.0645 - val_accuracy: 0.9800\n",
      "Epoch 32/60\n",
      "1688/1688 [==============================] - 64s 38ms/step - loss: 0.0195 - accuracy: 0.9947 - val_loss: 0.0680 - val_accuracy: 0.9797\n",
      "Epoch 33/60\n",
      "1688/1688 [==============================] - 64s 38ms/step - loss: 0.0182 - accuracy: 0.9949 - val_loss: 0.0764 - val_accuracy: 0.9770\n",
      "Epoch 34/60\n",
      "1688/1688 [==============================] - 65s 39ms/step - loss: 0.0172 - accuracy: 0.9953 - val_loss: 0.0665 - val_accuracy: 0.9808\n",
      "Epoch 35/60\n",
      "1688/1688 [==============================] - 75s 45ms/step - loss: 0.0155 - accuracy: 0.9961 - val_loss: 0.0633 - val_accuracy: 0.9818\n",
      "Epoch 36/60\n",
      "1688/1688 [==============================] - 71s 42ms/step - loss: 0.0151 - accuracy: 0.9962 - val_loss: 0.0693 - val_accuracy: 0.9808\n",
      "Epoch 37/60\n",
      "1688/1688 [==============================] - 69s 41ms/step - loss: 0.0140 - accuracy: 0.9965 - val_loss: 0.0656 - val_accuracy: 0.9798\n",
      "Epoch 38/60\n",
      "1688/1688 [==============================] - 69s 41ms/step - loss: 0.0128 - accuracy: 0.9968 - val_loss: 0.0691 - val_accuracy: 0.9803\n",
      "Epoch 39/60\n",
      "1688/1688 [==============================] - 70s 41ms/step - loss: 0.0121 - accuracy: 0.9971 - val_loss: 0.0655 - val_accuracy: 0.9817\n",
      "Epoch 40/60\n",
      "1688/1688 [==============================] - 70s 42ms/step - loss: 0.0111 - accuracy: 0.9975 - val_loss: 0.0656 - val_accuracy: 0.9812\n",
      "Epoch 41/60\n",
      "1688/1688 [==============================] - 70s 41ms/step - loss: 0.0101 - accuracy: 0.9979 - val_loss: 0.0678 - val_accuracy: 0.9815\n",
      "Epoch 42/60\n",
      "1688/1688 [==============================] - 69s 41ms/step - loss: 0.0095 - accuracy: 0.9982 - val_loss: 0.0759 - val_accuracy: 0.9790\n",
      "Epoch 43/60\n",
      "1688/1688 [==============================] - 70s 42ms/step - loss: 0.0092 - accuracy: 0.9981 - val_loss: 0.0729 - val_accuracy: 0.9803\n",
      "Epoch 44/60\n",
      "1688/1688 [==============================] - 65s 39ms/step - loss: 0.0084 - accuracy: 0.9982 - val_loss: 0.0715 - val_accuracy: 0.9800\n",
      "Epoch 45/60\n",
      "1688/1688 [==============================] - 64s 38ms/step - loss: 0.0079 - accuracy: 0.9985 - val_loss: 0.0682 - val_accuracy: 0.9818\n",
      "Epoch 46/60\n",
      "1688/1688 [==============================] - 66s 39ms/step - loss: 0.0073 - accuracy: 0.9987 - val_loss: 0.0680 - val_accuracy: 0.9822\n",
      "Epoch 47/60\n",
      "1688/1688 [==============================] - 65s 38ms/step - loss: 0.0068 - accuracy: 0.9988 - val_loss: 0.0718 - val_accuracy: 0.9798\n",
      "Epoch 48/60\n",
      "1688/1688 [==============================] - 80s 48ms/step - loss: 0.0063 - accuracy: 0.9990 - val_loss: 0.0698 - val_accuracy: 0.9822\n",
      "Epoch 49/60\n",
      "1688/1688 [==============================] - 73s 43ms/step - loss: 0.0060 - accuracy: 0.9990 - val_loss: 0.0713 - val_accuracy: 0.9815\n",
      "Epoch 50/60\n",
      "1688/1688 [==============================] - 71s 42ms/step - loss: 0.0057 - accuracy: 0.9989 - val_loss: 0.0752 - val_accuracy: 0.9803\n",
      "Epoch 51/60\n",
      "1688/1688 [==============================] - 69s 41ms/step - loss: 0.0049 - accuracy: 0.9993 - val_loss: 0.0738 - val_accuracy: 0.9805\n",
      "Epoch 52/60\n",
      "1688/1688 [==============================] - 71s 42ms/step - loss: 0.0046 - accuracy: 0.9994 - val_loss: 0.0716 - val_accuracy: 0.9813\n",
      "Epoch 53/60\n",
      "1688/1688 [==============================] - 71s 42ms/step - loss: 0.0046 - accuracy: 0.9994 - val_loss: 0.0777 - val_accuracy: 0.9813\n",
      "Epoch 54/60\n",
      "1688/1688 [==============================] - 70s 41ms/step - loss: 0.0042 - accuracy: 0.9995 - val_loss: 0.0728 - val_accuracy: 0.9810\n",
      "Epoch 55/60\n",
      "1688/1688 [==============================] - 72s 43ms/step - loss: 0.0039 - accuracy: 0.9996 - val_loss: 0.0723 - val_accuracy: 0.9818\n",
      "Epoch 56/60\n",
      "1688/1688 [==============================] - 70s 41ms/step - loss: 0.0034 - accuracy: 0.9997 - val_loss: 0.0734 - val_accuracy: 0.9820\n"
     ]
    },
    {
     "name": "stdout",
     "output_type": "stream",
     "text": [
      "Epoch 57/60\n",
      "1688/1688 [==============================] - 69s 41ms/step - loss: 0.0033 - accuracy: 0.9997 - val_loss: 0.0739 - val_accuracy: 0.9807\n",
      "Epoch 58/60\n",
      "1688/1688 [==============================] - 71s 42ms/step - loss: 0.0033 - accuracy: 0.9998 - val_loss: 0.0745 - val_accuracy: 0.9818\n",
      "Epoch 59/60\n",
      "1688/1688 [==============================] - 69s 41ms/step - loss: 0.0031 - accuracy: 0.9999 - val_loss: 0.0756 - val_accuracy: 0.9813\n",
      "Epoch 60/60\n",
      "1688/1688 [==============================] - 64s 38ms/step - loss: 0.0031 - accuracy: 0.9996 - val_loss: 0.0760 - val_accuracy: 0.9812\n"
     ]
    }
   ],
   "source": [
    "model_B_history=model_B.fit(x_train, y_train, epochs=60, validation_data=(x_valid, y_valid))"
   ]
  },
  {
   "cell_type": "code",
   "execution_count": 42,
   "id": "7851dd52",
   "metadata": {},
   "outputs": [
    {
     "data": {
      "text/plain": [
       "{'verbose': 1, 'epochs': 60, 'steps': 1688}"
      ]
     },
     "execution_count": 42,
     "metadata": {},
     "output_type": "execute_result"
    }
   ],
   "source": [
    "model_B_history.params"
   ]
  },
  {
   "cell_type": "code",
   "execution_count": 43,
   "id": "689c3415",
   "metadata": {},
   "outputs": [
    {
     "data": {
      "text/plain": [
       "{'loss': [0.7609202861785889,\n",
       "  0.2842690348625183,\n",
       "  0.22087378799915314,\n",
       "  0.18062986433506012,\n",
       "  0.15270750224590302,\n",
       "  0.13254038989543915,\n",
       "  0.11709827929735184,\n",
       "  0.10463756322860718,\n",
       "  0.09533863514661789,\n",
       "  0.0868324488401413,\n",
       "  0.07981333136558533,\n",
       "  0.07394780963659286,\n",
       "  0.06771537661552429,\n",
       "  0.06334304809570312,\n",
       "  0.059235986322164536,\n",
       "  0.05566732957959175,\n",
       "  0.05193120986223221,\n",
       "  0.048461850732564926,\n",
       "  0.04546704888343811,\n",
       "  0.042421530932188034,\n",
       "  0.04008054733276367,\n",
       "  0.03695937991142273,\n",
       "  0.035647254437208176,\n",
       "  0.033425744622945786,\n",
       "  0.030909350141882896,\n",
       "  0.029000576585531235,\n",
       "  0.02699584886431694,\n",
       "  0.025618990883231163,\n",
       "  0.02430056594312191,\n",
       "  0.022474829107522964,\n",
       "  0.02067428082227707,\n",
       "  0.019533438608050346,\n",
       "  0.018230341374874115,\n",
       "  0.017183100804686546,\n",
       "  0.015546515583992004,\n",
       "  0.015107622370123863,\n",
       "  0.013957113027572632,\n",
       "  0.012783152982592583,\n",
       "  0.012140301987528801,\n",
       "  0.011132740415632725,\n",
       "  0.01013532280921936,\n",
       "  0.009456497617065907,\n",
       "  0.009239746257662773,\n",
       "  0.008439403027296066,\n",
       "  0.00788919162005186,\n",
       "  0.007293348666280508,\n",
       "  0.006806050427258015,\n",
       "  0.006309765391051769,\n",
       "  0.005984863266348839,\n",
       "  0.005655171349644661,\n",
       "  0.0049237716011703014,\n",
       "  0.004576567094773054,\n",
       "  0.004572434816509485,\n",
       "  0.00423528254032135,\n",
       "  0.003944576717913151,\n",
       "  0.003427245421335101,\n",
       "  0.0033210457768291235,\n",
       "  0.0032698488794267178,\n",
       "  0.0030713947489857674,\n",
       "  0.0030534525867551565],\n",
       " 'accuracy': [0.8131851553916931,\n",
       "  0.916018545627594,\n",
       "  0.9332777857780457,\n",
       "  0.9455184936523438,\n",
       "  0.9537592530250549,\n",
       "  0.9593703746795654,\n",
       "  0.9652962684631348,\n",
       "  0.9683148264884949,\n",
       "  0.9708703756332397,\n",
       "  0.9735555648803711,\n",
       "  0.9760370254516602,\n",
       "  0.9776666760444641,\n",
       "  0.9791481494903564,\n",
       "  0.9805740714073181,\n",
       "  0.9819444417953491,\n",
       "  0.9825740456581116,\n",
       "  0.9838148355484009,\n",
       "  0.9849073886871338,\n",
       "  0.9860740900039673,\n",
       "  0.987074077129364,\n",
       "  0.9878518581390381,\n",
       "  0.9885925650596619,\n",
       "  0.9892592430114746,\n",
       "  0.9899629354476929,\n",
       "  0.9905925989151001,\n",
       "  0.9916666746139526,\n",
       "  0.9919999837875366,\n",
       "  0.992388904094696,\n",
       "  0.9926481246948242,\n",
       "  0.9934259057044983,\n",
       "  0.9944074153900146,\n",
       "  0.9947222471237183,\n",
       "  0.9948703646659851,\n",
       "  0.9952777624130249,\n",
       "  0.9961110949516296,\n",
       "  0.9961851835250854,\n",
       "  0.9964814782142639,\n",
       "  0.9968147873878479,\n",
       "  0.9971110820770264,\n",
       "  0.9975370168685913,\n",
       "  0.9979444742202759,\n",
       "  0.998203694820404,\n",
       "  0.9980555772781372,\n",
       "  0.998203694820404,\n",
       "  0.998462975025177,\n",
       "  0.9986851811408997,\n",
       "  0.9987592697143555,\n",
       "  0.9989814758300781,\n",
       "  0.9990000128746033,\n",
       "  0.9989073872566223,\n",
       "  0.9993148446083069,\n",
       "  0.9994259476661682,\n",
       "  0.9993703961372375,\n",
       "  0.9994814991950989,\n",
       "  0.9996111392974854,\n",
       "  0.9997222423553467,\n",
       "  0.999740719795227,\n",
       "  0.9997592568397522,\n",
       "  0.9998703598976135,\n",
       "  0.9996111392974854],\n",
       " 'val_loss': [0.3047490417957306,\n",
       "  0.23329128324985504,\n",
       "  0.1814841479063034,\n",
       "  0.16047871112823486,\n",
       "  0.14370481669902802,\n",
       "  0.1274511069059372,\n",
       "  0.11500228941440582,\n",
       "  0.10447119921445847,\n",
       "  0.09828626364469528,\n",
       "  0.08892326056957245,\n",
       "  0.08380725979804993,\n",
       "  0.08323945850133896,\n",
       "  0.08604662865400314,\n",
       "  0.07404785603284836,\n",
       "  0.07782077044248581,\n",
       "  0.07179234176874161,\n",
       "  0.0751725360751152,\n",
       "  0.07013627886772156,\n",
       "  0.07482170313596725,\n",
       "  0.07173983007669449,\n",
       "  0.0661538764834404,\n",
       "  0.07199650257825851,\n",
       "  0.07317167520523071,\n",
       "  0.07069660723209381,\n",
       "  0.06401753425598145,\n",
       "  0.07025200128555298,\n",
       "  0.06744061410427094,\n",
       "  0.0671011283993721,\n",
       "  0.07291537523269653,\n",
       "  0.06401767581701279,\n",
       "  0.06454548239707947,\n",
       "  0.06799323111772537,\n",
       "  0.07635720074176788,\n",
       "  0.06650683283805847,\n",
       "  0.06334701925516129,\n",
       "  0.06932727992534637,\n",
       "  0.06557509303092957,\n",
       "  0.06912896037101746,\n",
       "  0.06546104699373245,\n",
       "  0.06563454866409302,\n",
       "  0.0677567720413208,\n",
       "  0.07586276531219482,\n",
       "  0.07288046926259995,\n",
       "  0.07148674130439758,\n",
       "  0.0681784600019455,\n",
       "  0.06804853677749634,\n",
       "  0.07175213098526001,\n",
       "  0.06981398165225983,\n",
       "  0.07133285701274872,\n",
       "  0.07518235594034195,\n",
       "  0.07382315397262573,\n",
       "  0.07160843163728714,\n",
       "  0.0777214840054512,\n",
       "  0.07276737689971924,\n",
       "  0.072281613945961,\n",
       "  0.07344221323728561,\n",
       "  0.0738590881228447,\n",
       "  0.0745290219783783,\n",
       "  0.07555858045816422,\n",
       "  0.07597382366657257],\n",
       " 'val_accuracy': [0.9066666960716248,\n",
       "  0.9346666932106018,\n",
       "  0.9486666917800903,\n",
       "  0.9555000066757202,\n",
       "  0.9618333578109741,\n",
       "  0.9653333425521851,\n",
       "  0.9683333039283752,\n",
       "  0.9693333506584167,\n",
       "  0.971666693687439,\n",
       "  0.9735000133514404,\n",
       "  0.9756666421890259,\n",
       "  0.9760000109672546,\n",
       "  0.9745000004768372,\n",
       "  0.9775000214576721,\n",
       "  0.9775000214576721,\n",
       "  0.9781666398048401,\n",
       "  0.9779999852180481,\n",
       "  0.9788333177566528,\n",
       "  0.9763333201408386,\n",
       "  0.9788333177566528,\n",
       "  0.9801666736602783,\n",
       "  0.9776666760444641,\n",
       "  0.9779999852180481,\n",
       "  0.9786666631698608,\n",
       "  0.9804999828338623,\n",
       "  0.9785000085830688,\n",
       "  0.9794999957084656,\n",
       "  0.9793333411216736,\n",
       "  0.9786666631698608,\n",
       "  0.9816666841506958,\n",
       "  0.9800000190734863,\n",
       "  0.9796666502952576,\n",
       "  0.9769999980926514,\n",
       "  0.9808333516120911,\n",
       "  0.9818333387374878,\n",
       "  0.9808333516120911,\n",
       "  0.9798333048820496,\n",
       "  0.9803333282470703,\n",
       "  0.9816666841506958,\n",
       "  0.981166660785675,\n",
       "  0.9815000295639038,\n",
       "  0.9789999723434448,\n",
       "  0.9803333282470703,\n",
       "  0.9800000190734863,\n",
       "  0.9818333387374878,\n",
       "  0.9821666479110718,\n",
       "  0.9798333048820496,\n",
       "  0.9821666479110718,\n",
       "  0.9815000295639038,\n",
       "  0.9803333282470703,\n",
       "  0.9804999828338623,\n",
       "  0.981333315372467,\n",
       "  0.981333315372467,\n",
       "  0.9810000061988831,\n",
       "  0.9818333387374878,\n",
       "  0.9819999933242798,\n",
       "  0.9806666374206543,\n",
       "  0.9818333387374878,\n",
       "  0.981333315372467,\n",
       "  0.981166660785675]}"
      ]
     },
     "execution_count": 43,
     "metadata": {},
     "output_type": "execute_result"
    }
   ],
   "source": [
    "model_B_history.history"
   ]
  },
  {
   "cell_type": "code",
   "execution_count": 44,
   "id": "71234e2a",
   "metadata": {},
   "outputs": [
    {
     "data": {
      "image/png": "[encoded data removed]",
      "text/plain": [
       "<Figure size 576x360 with 1 Axes>"
      ]
     },
     "metadata": {
      "needs_background": "light"
     },
     "output_type": "display_data"
    }
   ],
   "source": [
    "import pandas as pd\n",
    "pd.DataFrame(model_B_history.history).plot(figsize=(8,5))\n",
    "plt.grid(True)\n",
    "plt.gca().set_ylim(0,1)\n",
    "plt.show()"
   ]
  },
  {
   "cell_type": "code",
   "execution_count": 46,
   "id": "925a60ad",
   "metadata": {},
   "outputs": [
    {
     "name": "stdout",
     "output_type": "stream",
     "text": [
      "313/313 [==============================] - 3s 11ms/step - loss: 0.0603 - accuracy: 0.9833\n"
     ]
    }
   ],
   "source": [
    "test_loss, test_acc= model_B.evaluate(x_test,y_test)"
   ]
  },
  {
   "cell_type": "code",
   "execution_count": 47,
   "id": "cbe1c5b8",
   "metadata": {},
   "outputs": [
    {
     "name": "stdout",
     "output_type": "stream",
     "text": [
      "Tested Accuracy B: 0.983299970626831\n"
     ]
    }
   ],
   "source": [
    "print(\"Tested Accuracy B:\",test_acc)"
   ]
  },
  {
   "cell_type": "code",
   "execution_count": 48,
   "id": "13e759df",
   "metadata": {},
   "outputs": [],
   "source": [
    "class_names=[\"0\",\"1\",\"2\",\"3\",\"4\",\"5\",\"6\",\"7\",\"8\",\"9\"]"
   ]
  },
  {
   "cell_type": "code",
   "execution_count": 49,
   "id": "935e2c5e",
   "metadata": {},
   "outputs": [
    {
     "name": "stdout",
     "output_type": "stream",
     "text": [
      "313/313 [==============================] - 3s 8ms/step\n",
      "9\n"
     ]
    }
   ],
   "source": [
    "prediction=model_A.predict(X_test)\n",
    "print(class_names[np.argmax(prediction[78])])"
   ]
  },
  {
   "cell_type": "code",
   "execution_count": 50,
   "id": "109e487a",
   "metadata": {},
   "outputs": [
    {
     "data": {
      "image/png": "[encoded data removed]",
      "text/plain": [
       "<Figure size 432x288 with 1 Axes>"
      ]
     },
     "metadata": {
      "needs_background": "light"
     },
     "output_type": "display_data"
    },
    {
     "data": {
      "image/png": "[encoded data removed]",
      "text/plain": [
       "<Figure size 432x288 with 1 Axes>"
      ]
     },
     "metadata": {
      "needs_background": "light"
     },
     "output_type": "display_data"
    },
    {
     "data": {
      "image/png": "[encoded data removed]",
      "text/plain": [
       "<Figure size 432x288 with 1 Axes>"
      ]
     },
     "metadata": {
      "needs_background": "light"
     },
     "output_type": "display_data"
    },
    {
     "data": {
      "image/png": "[encoded data removed]",
      "text/plain": [
       "<Figure size 432x288 with 1 Axes>"
      ]
     },
     "metadata": {
      "needs_background": "light"
     },
     "output_type": "display_data"
    },
    {
     "data": {
      "image/png": "[encoded data removed]",
      "text/plain": [
       "<Figure size 432x288 with 1 Axes>"
      ]
     },
     "metadata": {
      "needs_background": "light"
     },
     "output_type": "display_data"
    }
   ],
   "source": [
    "for i in range(5):\n",
    "    plt.grid(False)\n",
    "    plt.imshow(X_test[i], cmap=plt.cm.binary)\n",
    "    plt.xlabel(\"Actual:\"+class_names[y_test[i]])\n",
    "    plt.title(\"Prediction:\"+class_names[np.argmax(prediction[i])])\n",
    "    plt.show()"
   ]
  },
  {
   "cell_type": "code",
   "execution_count": null,
   "id": "b635a428",
   "metadata": {},
   "outputs": [],
   "source": []
  }
 ],
 "metadata": {
  "kernelspec": {
   "display_name": "Python 3",
   "language": "python",
   "name": "python3"
  },
  "language_info": {
   "codemirror_mode": {
    "name": "ipython",
    "version": 3
   },
   "file_extension": ".py",
   "mimetype": "text/x-python",
   "name": "python",
   "nbconvert_exporter": "python",
   "pygments_lexer": "ipython3",
   "version": "3.8.8"
  }
 },
 "nbformat": 4,
 "nbformat_minor": 5
}
